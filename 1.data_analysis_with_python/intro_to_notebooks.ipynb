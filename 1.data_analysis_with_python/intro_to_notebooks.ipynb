{
 "cells": [
  {
   "attachments": {},
   "cell_type": "markdown",
   "metadata": {
    "canvas": {
     "comments": [],
     "componentType": "CodeCell",
     "copiedOriginId": null,
     "diskcache": false,
     "headerColor": "none",
     "id": "af134e4e-510f-4612-95fe-0931f7bc6067",
     "isComponent": false,
     "name": "",
     "parents": []
    },
    "tags": []
   },
   "source": [
    "# Libros de Jupyter - Python\n",
    "\n",
    "\n",
    "## Requerimientos\n",
    "\n",
    "Antes de comenzar, asegúrate de tener instalado Python 3.6 o superior. Si no lo tienes, puedes descargarlo desde [python.org](python.org). Adicional a esto, necesitaras instalar una serie de paquetes que se utilizan en este libro. Para esto, puedes utilizar el gestor de paquetes de Python, `pip`. Si no tienes `pip` instalado, puedes descargarlo desde [pip.pypa.io](pip.pypa.io), e igualmente se recomienda encarecidamente usar [Mambaforge](https://mamba.readthedocs.io/en/latest/installation.html).\n",
    "\n",
    "Puedes instalar los paquetes necesarios con los siguientes comandos:\n",
    "\n",
    "```bash\n",
    "# En Pip\n",
    "pip install -q numpy pandas matplotlib seaborn pyodbc python-dotenv 'sqlalchemy<2.0'\n",
    "# En Conda\n",
    "conda install -c conda-forge statsmodels pandas matplotlib scipy\n",
    "```"
   ]
  },
  {
   "cell_type": "markdown",
   "metadata": {
    "canvas": {
     "comments": [],
     "componentType": "CodeCell",
     "copiedOriginId": null,
     "diskcache": false,
     "headerColor": "none",
     "id": "f42d4057-62ff-4eb0-8323-6ac329a0eefc",
     "isComponent": false,
     "name": "",
     "parents": []
    }
   },
   "source": [
    "## Librerias\n",
    "\n",
    "Necesitas utilizar ciertas librerías para poder hacer consultas, a continuación importaremos las librerías necesarias para poder hacer consultas en nuestra base de datos."
   ]
  },
  {
   "cell_type": "code",
   "execution_count": 1,
   "metadata": {
    "canvas": {
     "comments": [],
     "componentType": "CodeCell",
     "copiedOriginId": null,
     "diskcache": false,
     "headerColor": "none",
     "id": "1a591555-ced4-4ca0-a04d-d67dab858cd9",
     "isComponent": false,
     "name": "",
     "parents": []
    }
   },
   "outputs": [
    {
     "name": "stdout",
     "output_type": "stream",
     "text": [
      "Librerías importadas\n"
     ]
    }
   ],
   "source": [
    "# SQL Alchemy nos permite crear la conexión con la base de datos\n",
    "from sqlalchemy import create_engine\n",
    "# Usaremos dotenv para leer las variables de entorno\n",
    "from dotenv import load_dotenv\n",
    "# Usaremos os para leer el archivo .env\n",
    "import os\n",
    "# Pandas nos permite leer los datos de la base de datos\n",
    "import pandas as pd\n",
    "# Numpy nos permite trabajar con los datos\n",
    "import numpy as np\n",
    "# Matplotlib nos permite graficar\n",
    "import matplotlib.pyplot as plt\n",
    "load_dotenv()\n",
    "\n",
    "print('Librerías importadas')"
   ]
  },
  {
   "cell_type": "markdown",
   "metadata": {
    "canvas": {
     "comments": [],
     "componentType": "CodeCell",
     "copiedOriginId": null,
     "diskcache": false,
     "headerColor": "none",
     "id": "d4561d3a-eb34-4c2b-9fd5-11228d89e881",
     "isComponent": false,
     "name": "",
     "parents": []
    }
   },
   "source": [
    "Una vez importadas las librerías que requerimos para ejecutar el código, realicemos la conexión a la base de datos."
   ]
  },
  {
   "cell_type": "code",
   "execution_count": 2,
   "metadata": {
    "canvas": {
     "comments": [],
     "componentType": "CodeCell",
     "copiedOriginId": null,
     "diskcache": false,
     "headerColor": "none",
     "id": "ffd97fd5-3899-44e7-bf7d-37bb11c0d7d2",
     "isComponent": false,
     "name": "",
     "parents": []
    }
   },
   "outputs": [
    {
     "name": "stdout",
     "output_type": "stream",
     "text": [
      "Conexión establecida\n"
     ]
    }
   ],
   "source": [
    "mssqlserver = os.getenv(\"mssqlserver\")\n",
    "mssqlport = os.getenv(\"mssqlport\")\n",
    "mssqldatabase = os.getenv(\"mssqldatabase\")\n",
    "mssqlusername = os.getenv(\"mssqlusername\")\n",
    "mssqlpassword = os.getenv(\"mssqlpassword\")\n",
    "\n",
    "engine = create_engine('mssql+pyodbc://'+mssqlusername+':'+mssqlpassword+'@'+mssqlserver+':'+mssqlport+'/'+mssqldatabase+'?driver=ODBC+Driver+18+for+SQL+Server&TrustServerCertificate=yes')\n",
    "\n",
    "print('Conexión establecida')"
   ]
  },
  {
   "cell_type": "markdown",
   "metadata": {
    "canvas": {
     "comments": [],
     "componentType": "CodeCell",
     "copiedOriginId": null,
     "diskcache": false,
     "headerColor": "none",
     "id": "0d31af8b-4dc8-45ac-94d8-eb4a5c7a305b",
     "isComponent": false,
     "name": "",
     "parents": []
    }
   },
   "source": [
    "Posterior a establecer la conexión, podemos empezar a trabajar en la consulta SQL que deseamos ejecutar. En este caso, vamos a utilizar como ejemplo la base de datos \"MagayaData\"."
   ]
  },
  {
   "cell_type": "code",
   "execution_count": 3,
   "metadata": {
    "canvas": {
     "comments": [],
     "componentType": "CodeCell",
     "copiedOriginId": null,
     "diskcache": false,
     "headerColor": "none",
     "id": "d159529a-1df0-41d4-a551-db1ac4fbdfab",
     "isComponent": false,
     "name": "",
     "parents": []
    }
   },
   "outputs": [],
   "source": [
    "# Aquí podrás insertar el código SQL que quieras ejecutar, recomendamos el uso de triple comillas para que sea mas legible\n",
    "sql = \"\"\"\n",
    "SELECT TOP(1000) * FROM master;\n",
    "\"\"\"\n"
   ]
  },
  {
   "cell_type": "markdown",
   "metadata": {
    "canvas": {
     "comments": [],
     "componentType": "CodeCell",
     "copiedOriginId": null,
     "diskcache": false,
     "headerColor": "none",
     "id": "e7479da1-2e4a-4777-82ff-06ce490be19f",
     "isComponent": false,
     "name": "",
     "parents": []
    }
   },
   "source": [
    "Ahora una vez escrito nuestro query, probemos ejecutarlo."
   ]
  },
  {
   "cell_type": "code",
   "execution_count": 4,
   "metadata": {
    "canvas": {
     "comments": [],
     "componentType": "CodeCell",
     "copiedOriginId": null,
     "diskcache": false,
     "headerColor": "none",
     "id": "17e42fe6-a740-45c6-a56b-cfea52f3a02f",
     "isComponent": false,
     "name": "",
     "parents": []
    }
   },
   "outputs": [
    {
     "data": {
      "text/html": [
       "<div>\n",
       "<style scoped>\n",
       "    .dataframe tbody tr th:only-of-type {\n",
       "        vertical-align: middle;\n",
       "    }\n",
       "\n",
       "    .dataframe tbody tr th {\n",
       "        vertical-align: top;\n",
       "    }\n",
       "\n",
       "    .dataframe thead th {\n",
       "        text-align: right;\n",
       "    }\n",
       "</style>\n",
       "<table border=\"1\" class=\"dataframe\">\n",
       "  <thead>\n",
       "    <tr style=\"text-align: right;\">\n",
       "      <th></th>\n",
       "      <th>id</th>\n",
       "      <th>pk_numero</th>\n",
       "      <th>pk_fecha_creacion</th>\n",
       "      <th>pk_division</th>\n",
       "      <th>pk_pais</th>\n",
       "      <th>pk_patologia</th>\n",
       "      <th>pk_ciudad_paciente</th>\n",
       "      <th>pk_medico_tratante</th>\n",
       "      <th>pk_especialidad</th>\n",
       "      <th>pk_iniciales_paciente</th>\n",
       "      <th>...</th>\n",
       "      <th>pk_dosis</th>\n",
       "      <th>pk_frecuencia_admon</th>\n",
       "      <th>pk_pmrlemtrada_tipoprueba</th>\n",
       "      <th>pk_hrd</th>\n",
       "      <th>pk_po_guid</th>\n",
       "      <th>pk_paciente_guid</th>\n",
       "      <th>pk_medico_guid</th>\n",
       "      <th>pk_notes</th>\n",
       "      <th>pk_institucion_atencion_paciente</th>\n",
       "      <th>pk_ciudad_institucion_med</th>\n",
       "    </tr>\n",
       "  </thead>\n",
       "  <tbody>\n",
       "    <tr>\n",
       "      <th>0</th>\n",
       "      <td>1</td>\n",
       "      <td>433</td>\n",
       "      <td>2017-02-01T16:24:06-05:00</td>\n",
       "      <td>Pharma</td>\n",
       "      <td></td>\n",
       "      <td>Fabry</td>\n",
       "      <td>BARRANQUILLA</td>\n",
       "      <td>QUIÑONEZ JAIRO</td>\n",
       "      <td></td>\n",
       "      <td>ADJVV</td>\n",
       "      <td>...</td>\n",
       "      <td></td>\n",
       "      <td></td>\n",
       "      <td></td>\n",
       "      <td></td>\n",
       "      <td>bb9796d1-2fb4-4632-a5f2-d1f4c95fa529</td>\n",
       "      <td>0f205dbf-6204-472c-96c3-e49b92b9b184</td>\n",
       "      <td>91ecc77e-9294-444b-8bf5-5767a1c31da4</td>\n",
       "      <td></td>\n",
       "      <td></td>\n",
       "      <td>None</td>\n",
       "    </tr>\n",
       "    <tr>\n",
       "      <th>1</th>\n",
       "      <td>2</td>\n",
       "      <td>432</td>\n",
       "      <td>2017-02-01T16:15:23-05:00</td>\n",
       "      <td>Pharma</td>\n",
       "      <td></td>\n",
       "      <td>Fabry</td>\n",
       "      <td>BARRANQUILLA</td>\n",
       "      <td>QUIÑONEZ JAIRO</td>\n",
       "      <td></td>\n",
       "      <td>YMVV</td>\n",
       "      <td>...</td>\n",
       "      <td></td>\n",
       "      <td></td>\n",
       "      <td></td>\n",
       "      <td></td>\n",
       "      <td>9bdae8ff-1348-4023-b6f9-fc85e16cf0c9</td>\n",
       "      <td>bb4e1082-137d-4771-99ed-873e79335ce1</td>\n",
       "      <td>91ecc77e-9294-444b-8bf5-5767a1c31da4</td>\n",
       "      <td></td>\n",
       "      <td></td>\n",
       "      <td>None</td>\n",
       "    </tr>\n",
       "    <tr>\n",
       "      <th>2</th>\n",
       "      <td>3</td>\n",
       "      <td>431</td>\n",
       "      <td>2017-02-01T16:08:52-05:00</td>\n",
       "      <td>Pharma</td>\n",
       "      <td></td>\n",
       "      <td>MPS I</td>\n",
       "      <td>POPAYAN</td>\n",
       "      <td>QUIÑONEZ JAIRO</td>\n",
       "      <td></td>\n",
       "      <td>FLSI</td>\n",
       "      <td>...</td>\n",
       "      <td></td>\n",
       "      <td></td>\n",
       "      <td></td>\n",
       "      <td></td>\n",
       "      <td>d8a275c3-e74f-4106-9e16-c393b23274ec</td>\n",
       "      <td>78e2fe3b-42e2-49ac-96bb-8a91a9d7cd22</td>\n",
       "      <td>91ecc77e-9294-444b-8bf5-5767a1c31da4</td>\n",
       "      <td></td>\n",
       "      <td></td>\n",
       "      <td>None</td>\n",
       "    </tr>\n",
       "    <tr>\n",
       "      <th>3</th>\n",
       "      <td>4</td>\n",
       "      <td>430</td>\n",
       "      <td>2017-02-01T15:35:24-05:00</td>\n",
       "      <td>Pharma</td>\n",
       "      <td></td>\n",
       "      <td>Gaucher</td>\n",
       "      <td>MEDELLIN</td>\n",
       "      <td>QUIÑONEZ JAIRO</td>\n",
       "      <td></td>\n",
       "      <td>JEAL</td>\n",
       "      <td>...</td>\n",
       "      <td></td>\n",
       "      <td></td>\n",
       "      <td></td>\n",
       "      <td></td>\n",
       "      <td>9893f097-a609-40a0-b3f0-25495c7ac5b3</td>\n",
       "      <td>1a960fd5-1a4b-45e8-a9c6-f0d495136dd3</td>\n",
       "      <td>91ecc77e-9294-444b-8bf5-5767a1c31da4</td>\n",
       "      <td></td>\n",
       "      <td></td>\n",
       "      <td>None</td>\n",
       "    </tr>\n",
       "    <tr>\n",
       "      <th>4</th>\n",
       "      <td>5</td>\n",
       "      <td>429</td>\n",
       "      <td>2017-02-01T15:20:17-05:00</td>\n",
       "      <td>Pharma</td>\n",
       "      <td></td>\n",
       "      <td>Gaucher</td>\n",
       "      <td>MEDELLIN</td>\n",
       "      <td>QUIÑONEZ JAIRO</td>\n",
       "      <td></td>\n",
       "      <td>EJAC</td>\n",
       "      <td>...</td>\n",
       "      <td></td>\n",
       "      <td></td>\n",
       "      <td></td>\n",
       "      <td></td>\n",
       "      <td>669007e6-d6a7-47db-a97b-7af5db5b3fab</td>\n",
       "      <td>b25309aa-8cd7-435c-bb7e-bf03d87c8592</td>\n",
       "      <td>91ecc77e-9294-444b-8bf5-5767a1c31da4</td>\n",
       "      <td></td>\n",
       "      <td></td>\n",
       "      <td>None</td>\n",
       "    </tr>\n",
       "    <tr>\n",
       "      <th>...</th>\n",
       "      <td>...</td>\n",
       "      <td>...</td>\n",
       "      <td>...</td>\n",
       "      <td>...</td>\n",
       "      <td>...</td>\n",
       "      <td>...</td>\n",
       "      <td>...</td>\n",
       "      <td>...</td>\n",
       "      <td>...</td>\n",
       "      <td>...</td>\n",
       "      <td>...</td>\n",
       "      <td>...</td>\n",
       "      <td>...</td>\n",
       "      <td>...</td>\n",
       "      <td>...</td>\n",
       "      <td>...</td>\n",
       "      <td>...</td>\n",
       "      <td>...</td>\n",
       "      <td>...</td>\n",
       "      <td>...</td>\n",
       "      <td>...</td>\n",
       "    </tr>\n",
       "    <tr>\n",
       "      <th>995</th>\n",
       "      <td>1101</td>\n",
       "      <td>1407</td>\n",
       "      <td>2017-03-23T11:27:34-05:00</td>\n",
       "      <td>Pharma</td>\n",
       "      <td></td>\n",
       "      <td>MPS I</td>\n",
       "      <td>BOGOTA</td>\n",
       "      <td>QUIÑONEZ JAIRO</td>\n",
       "      <td></td>\n",
       "      <td>SLR</td>\n",
       "      <td>...</td>\n",
       "      <td></td>\n",
       "      <td></td>\n",
       "      <td></td>\n",
       "      <td></td>\n",
       "      <td>89d8aba5-4b06-4933-837b-09008f1180e1</td>\n",
       "      <td>212123ea-843b-489d-9ff3-76dfac72ed51</td>\n",
       "      <td>91ecc77e-9294-444b-8bf5-5767a1c31da4</td>\n",
       "      <td></td>\n",
       "      <td></td>\n",
       "      <td>None</td>\n",
       "    </tr>\n",
       "    <tr>\n",
       "      <th>996</th>\n",
       "      <td>1102</td>\n",
       "      <td>1406</td>\n",
       "      <td>2017-03-23T11:03:44-05:00</td>\n",
       "      <td>Pharma</td>\n",
       "      <td></td>\n",
       "      <td>PMR - Lemtrada</td>\n",
       "      <td>IBAGUE</td>\n",
       "      <td>QUIÑONEZ JAIRO</td>\n",
       "      <td></td>\n",
       "      <td>ELVIA ISMENIA OSPINA</td>\n",
       "      <td>...</td>\n",
       "      <td></td>\n",
       "      <td></td>\n",
       "      <td></td>\n",
       "      <td></td>\n",
       "      <td>a9eab669-72b0-436f-822a-ac57439360c8</td>\n",
       "      <td>c0f2dd06-e7c0-4d43-86aa-c6f57f40cad3</td>\n",
       "      <td>91ecc77e-9294-444b-8bf5-5767a1c31da4</td>\n",
       "      <td>Monitoreo Mensual:  Cuadro Hemático, Creatinin...</td>\n",
       "      <td></td>\n",
       "      <td>None</td>\n",
       "    </tr>\n",
       "    <tr>\n",
       "      <th>997</th>\n",
       "      <td>1103</td>\n",
       "      <td>1405</td>\n",
       "      <td>2017-03-23T10:55:57-05:00</td>\n",
       "      <td>Pharma</td>\n",
       "      <td></td>\n",
       "      <td>Gaucher</td>\n",
       "      <td>BOGOTA</td>\n",
       "      <td>QUIÑONEZ JAIRO</td>\n",
       "      <td></td>\n",
       "      <td>SPHR</td>\n",
       "      <td>...</td>\n",
       "      <td></td>\n",
       "      <td></td>\n",
       "      <td></td>\n",
       "      <td></td>\n",
       "      <td>2cf7b9d1-2fa3-4256-9f4b-411bb22d0d5f</td>\n",
       "      <td>14ea1228-e486-4190-9938-75d866c040fc</td>\n",
       "      <td>91ecc77e-9294-444b-8bf5-5767a1c31da4</td>\n",
       "      <td></td>\n",
       "      <td></td>\n",
       "      <td>None</td>\n",
       "    </tr>\n",
       "    <tr>\n",
       "      <th>998</th>\n",
       "      <td>1104</td>\n",
       "      <td>756-R</td>\n",
       "      <td>2017-03-23T10:36:00-05:00</td>\n",
       "      <td>Pharma</td>\n",
       "      <td></td>\n",
       "      <td>Gaucher</td>\n",
       "      <td>BARRANQUILLA</td>\n",
       "      <td>QUIÑONEZ JAIRO</td>\n",
       "      <td></td>\n",
       "      <td>MCMM</td>\n",
       "      <td>...</td>\n",
       "      <td></td>\n",
       "      <td></td>\n",
       "      <td></td>\n",
       "      <td></td>\n",
       "      <td>83da5faa-5fdd-4bd7-af07-117e64b7a9f6</td>\n",
       "      <td>378b6bc9-7f78-4b16-b650-88aaa985c084</td>\n",
       "      <td>91ecc77e-9294-444b-8bf5-5767a1c31da4</td>\n",
       "      <td></td>\n",
       "      <td></td>\n",
       "      <td>None</td>\n",
       "    </tr>\n",
       "    <tr>\n",
       "      <th>999</th>\n",
       "      <td>1105</td>\n",
       "      <td>779-R</td>\n",
       "      <td>2017-03-23T10:33:42-05:00</td>\n",
       "      <td>Pharma</td>\n",
       "      <td></td>\n",
       "      <td>Gaucher</td>\n",
       "      <td>CALI</td>\n",
       "      <td>QUIÑONEZ JAIRO</td>\n",
       "      <td></td>\n",
       "      <td>MGG</td>\n",
       "      <td>...</td>\n",
       "      <td></td>\n",
       "      <td></td>\n",
       "      <td></td>\n",
       "      <td></td>\n",
       "      <td>80108fa1-4300-4d28-b89d-9b8926c01dc1</td>\n",
       "      <td>37ea7338-a1bd-4a08-a582-d0ae7ebe1ddb</td>\n",
       "      <td>91ecc77e-9294-444b-8bf5-5767a1c31da4</td>\n",
       "      <td></td>\n",
       "      <td></td>\n",
       "      <td>None</td>\n",
       "    </tr>\n",
       "  </tbody>\n",
       "</table>\n",
       "<p>1000 rows × 283 columns</p>\n",
       "</div>"
      ],
      "text/plain": [
       "       id pk_numero          pk_fecha_creacion pk_division pk_pais   \n",
       "0       1       433  2017-02-01T16:24:06-05:00      Pharma          \\\n",
       "1       2       432  2017-02-01T16:15:23-05:00      Pharma           \n",
       "2       3       431  2017-02-01T16:08:52-05:00      Pharma           \n",
       "3       4       430  2017-02-01T15:35:24-05:00      Pharma           \n",
       "4       5       429  2017-02-01T15:20:17-05:00      Pharma           \n",
       "..    ...       ...                        ...         ...     ...   \n",
       "995  1101      1407  2017-03-23T11:27:34-05:00      Pharma           \n",
       "996  1102      1406  2017-03-23T11:03:44-05:00      Pharma           \n",
       "997  1103      1405  2017-03-23T10:55:57-05:00      Pharma           \n",
       "998  1104     756-R  2017-03-23T10:36:00-05:00      Pharma           \n",
       "999  1105     779-R  2017-03-23T10:33:42-05:00      Pharma           \n",
       "\n",
       "       pk_patologia pk_ciudad_paciente pk_medico_tratante pk_especialidad   \n",
       "0             Fabry       BARRANQUILLA     QUIÑONEZ JAIRO                  \\\n",
       "1             Fabry       BARRANQUILLA     QUIÑONEZ JAIRO                   \n",
       "2             MPS I            POPAYAN     QUIÑONEZ JAIRO                   \n",
       "3           Gaucher           MEDELLIN     QUIÑONEZ JAIRO                   \n",
       "4           Gaucher           MEDELLIN     QUIÑONEZ JAIRO                   \n",
       "..              ...                ...                ...             ...   \n",
       "995           MPS I             BOGOTA     QUIÑONEZ JAIRO                   \n",
       "996  PMR - Lemtrada             IBAGUE     QUIÑONEZ JAIRO                   \n",
       "997         Gaucher             BOGOTA     QUIÑONEZ JAIRO                   \n",
       "998         Gaucher       BARRANQUILLA     QUIÑONEZ JAIRO                   \n",
       "999         Gaucher               CALI     QUIÑONEZ JAIRO                   \n",
       "\n",
       "    pk_iniciales_paciente  ... pk_dosis pk_frecuencia_admon   \n",
       "0                   ADJVV  ...                               \\\n",
       "1                    YMVV  ...                                \n",
       "2                    FLSI  ...                                \n",
       "3                    JEAL  ...                                \n",
       "4                    EJAC  ...                                \n",
       "..                    ...  ...      ...                 ...   \n",
       "995                   SLR  ...                                \n",
       "996  ELVIA ISMENIA OSPINA  ...                                \n",
       "997                  SPHR  ...                                \n",
       "998                  MCMM  ...                                \n",
       "999                   MGG  ...                                \n",
       "\n",
       "    pk_pmrlemtrada_tipoprueba pk_hrd                            pk_po_guid   \n",
       "0                                     bb9796d1-2fb4-4632-a5f2-d1f4c95fa529  \\\n",
       "1                                     9bdae8ff-1348-4023-b6f9-fc85e16cf0c9   \n",
       "2                                     d8a275c3-e74f-4106-9e16-c393b23274ec   \n",
       "3                                     9893f097-a609-40a0-b3f0-25495c7ac5b3   \n",
       "4                                     669007e6-d6a7-47db-a97b-7af5db5b3fab   \n",
       "..                        ...    ...                                   ...   \n",
       "995                                   89d8aba5-4b06-4933-837b-09008f1180e1   \n",
       "996                                   a9eab669-72b0-436f-822a-ac57439360c8   \n",
       "997                                   2cf7b9d1-2fa3-4256-9f4b-411bb22d0d5f   \n",
       "998                                   83da5faa-5fdd-4bd7-af07-117e64b7a9f6   \n",
       "999                                   80108fa1-4300-4d28-b89d-9b8926c01dc1   \n",
       "\n",
       "                         pk_paciente_guid   \n",
       "0    0f205dbf-6204-472c-96c3-e49b92b9b184  \\\n",
       "1    bb4e1082-137d-4771-99ed-873e79335ce1   \n",
       "2    78e2fe3b-42e2-49ac-96bb-8a91a9d7cd22   \n",
       "3    1a960fd5-1a4b-45e8-a9c6-f0d495136dd3   \n",
       "4    b25309aa-8cd7-435c-bb7e-bf03d87c8592   \n",
       "..                                    ...   \n",
       "995  212123ea-843b-489d-9ff3-76dfac72ed51   \n",
       "996  c0f2dd06-e7c0-4d43-86aa-c6f57f40cad3   \n",
       "997  14ea1228-e486-4190-9938-75d866c040fc   \n",
       "998  378b6bc9-7f78-4b16-b650-88aaa985c084   \n",
       "999  37ea7338-a1bd-4a08-a582-d0ae7ebe1ddb   \n",
       "\n",
       "                           pk_medico_guid   \n",
       "0    91ecc77e-9294-444b-8bf5-5767a1c31da4  \\\n",
       "1    91ecc77e-9294-444b-8bf5-5767a1c31da4   \n",
       "2    91ecc77e-9294-444b-8bf5-5767a1c31da4   \n",
       "3    91ecc77e-9294-444b-8bf5-5767a1c31da4   \n",
       "4    91ecc77e-9294-444b-8bf5-5767a1c31da4   \n",
       "..                                    ...   \n",
       "995  91ecc77e-9294-444b-8bf5-5767a1c31da4   \n",
       "996  91ecc77e-9294-444b-8bf5-5767a1c31da4   \n",
       "997  91ecc77e-9294-444b-8bf5-5767a1c31da4   \n",
       "998  91ecc77e-9294-444b-8bf5-5767a1c31da4   \n",
       "999  91ecc77e-9294-444b-8bf5-5767a1c31da4   \n",
       "\n",
       "                                              pk_notes   \n",
       "0                                                       \\\n",
       "1                                                        \n",
       "2                                                        \n",
       "3                                                        \n",
       "4                                                        \n",
       "..                                                 ...   \n",
       "995                                                      \n",
       "996  Monitoreo Mensual:  Cuadro Hemático, Creatinin...   \n",
       "997                                                      \n",
       "998                                                      \n",
       "999                                                      \n",
       "\n",
       "    pk_institucion_atencion_paciente pk_ciudad_institucion_med  \n",
       "0                                                         None  \n",
       "1                                                         None  \n",
       "2                                                         None  \n",
       "3                                                         None  \n",
       "4                                                         None  \n",
       "..                               ...                       ...  \n",
       "995                                                       None  \n",
       "996                                                       None  \n",
       "997                                                       None  \n",
       "998                                                       None  \n",
       "999                                                       None  \n",
       "\n",
       "[1000 rows x 283 columns]"
      ]
     },
     "execution_count": 4,
     "metadata": {},
     "output_type": "execute_result"
    }
   ],
   "source": [
    "# Se crea el dataframe con los datos de la base de datos\n",
    "df = pd.read_sql_query(sql, engine)\n",
    "\n",
    "# Veamos un resumen de los datos\n",
    "df"
   ]
  },
  {
   "cell_type": "code",
   "execution_count": 5,
   "metadata": {},
   "outputs": [
    {
     "name": "stdout",
     "output_type": "stream",
     "text": [
      "[['a' 'b']\n",
      " ['d' 'e']\n",
      " ['g' 'h']]\n"
     ]
    }
   ],
   "source": [
    "# The first colon (:) means \"all rows\", the second colon (:2) means \"select columns 0 and 1\"\n",
    "\n",
    "A = np.array([\n",
    "    ['a', 'b', 'c'],\n",
    "    ['d', 'e', 'f'],\n",
    "    ['g', 'h', 'i']\n",
    "])\n",
    "\n",
    "print(A[:, :2])"
   ]
  },
  {
   "cell_type": "code",
   "execution_count": 6,
   "metadata": {},
   "outputs": [
    {
     "name": "stdout",
     "output_type": "stream",
     "text": [
      "[0 1 2 3 4]\n"
     ]
    }
   ],
   "source": [
    "a = np.arange(5)\n",
    "a + 20\n",
    "print(a)"
   ]
  },
  {
   "cell_type": "code",
   "execution_count": 7,
   "metadata": {},
   "outputs": [
    {
     "name": "stdout",
     "output_type": "stream",
     "text": [
      "[ True  True  True  True False]\n"
     ]
    }
   ],
   "source": [
    "a = np.arange(5)\n",
    "\n",
    "print(a <= 3)"
   ]
  },
  {
   "cell_type": "code",
   "execution_count": 8,
   "metadata": {},
   "outputs": [
    {
     "name": "stdout",
     "output_type": "stream",
     "text": [
      "Tom      8\n",
      "Kris     2\n",
      "Ahmad    5\n",
      "Beau     6\n",
      "dtype: int64\n"
     ]
    }
   ],
   "source": [
    "certificates_earned = pd.Series(\n",
    "    [8, 2, 5, 6],\n",
    "    index=['Tom', 'Kris', 'Ahmad', 'Beau']\n",
    ")\n",
    "\n",
    "print(certificates_earned)"
   ]
  },
  {
   "cell_type": "code",
   "execution_count": 9,
   "metadata": {},
   "outputs": [
    {
     "name": "stdout",
     "output_type": "stream",
     "text": [
      "Tom     8\n",
      "Beau    6\n",
      "dtype: int64\n"
     ]
    }
   ],
   "source": [
    "certificates_earned = pd.Series(\n",
    "    [8, 2, 5, 6],\n",
    "    index=['Tom', 'Kris', 'Ahmad', 'Beau']\n",
    ")\n",
    "\n",
    "print(certificates_earned[certificates_earned > 5])"
   ]
  },
  {
   "cell_type": "code",
   "execution_count": 10,
   "metadata": {},
   "outputs": [
    {
     "name": "stdout",
     "output_type": "stream",
     "text": [
      "Certificates        5\n",
      "Time (in months)    9\n",
      "Name: Ahmad, dtype: int64\n"
     ]
    }
   ],
   "source": [
    "certificates_earned = pd.DataFrame({\n",
    "    'Certificates': [8, 2, 5, 6],\n",
    "    'Time (in months)': [16, 5, 9, 12]\n",
    "})\n",
    "\n",
    "certificates_earned.index = ['Tom', 'Kris', 'Ahmad', 'Beau']\n",
    "\n",
    "print(certificates_earned.iloc[2])"
   ]
  },
  {
   "cell_type": "code",
   "execution_count": 11,
   "metadata": {},
   "outputs": [
    {
     "name": "stdout",
     "output_type": "stream",
     "text": [
      "       Certificates  Time (in months)  Longest streak\n",
      "Tom               8                16              13\n",
      "Kris              2                 5              11\n",
      "Ahmad             5                 9               9\n",
      "Beau              6                12               7\n"
     ]
    }
   ],
   "source": [
    "certificates_earned = pd.DataFrame({\n",
    "    'Certificates': [8, 2, 5, 6],\n",
    "    'Time (in months)': [16, 5, 9, 12]\n",
    "})\n",
    "names = ['Tom', 'Kris', 'Ahmad', 'Beau']\n",
    "\n",
    "certificates_earned.index = names\n",
    "longest_streak = pd.Series([13, 11, 9, 7], index=names)\n",
    "certificates_earned['Longest streak'] = longest_streak\n",
    "\n",
    "print(certificates_earned)"
   ]
  },
  {
   "cell_type": "code",
   "execution_count": 12,
   "metadata": {},
   "outputs": [
    {
     "name": "stdout",
     "output_type": "stream",
     "text": [
      "3\n"
     ]
    }
   ],
   "source": [
    "s = pd.Series(['a', 3, np.nan, 1, np.nan])\n",
    "\n",
    "print(s.notnull().sum())"
   ]
  },
  {
   "cell_type": "code",
   "execution_count": 13,
   "metadata": {},
   "outputs": [
    {
     "name": "stdout",
     "output_type": "stream",
     "text": [
      "0    NaN\n",
      "1    1.0\n",
      "2    2.0\n",
      "3    2.0\n",
      "4    3.0\n",
      "dtype: float64\n"
     ]
    }
   ],
   "source": [
    "s = pd.Series([np.nan, 1, 2, np.nan, 3])\n",
    "s = s.fillna(method='ffill')\n",
    "\n",
    "print(s)"
   ]
  },
  {
   "cell_type": "code",
   "execution_count": 14,
   "metadata": {},
   "outputs": [
    {
     "data": {
      "text/plain": [
       "<Axes: >"
      ]
     },
     "execution_count": 14,
     "metadata": {},
     "output_type": "execute_result"
    },
    {
     "data": {
      "image/png": "[encoded data removed]",
      "text/plain": [
       "<Figure size 640x480 with 1 Axes>"
      ]
     },
     "metadata": {},
     "output_type": "display_data"
    }
   ],
   "source": [
    "plt.subplot(1, 2, 1)"
   ]
  },
  {
   "cell_type": "code",
   "execution_count": 15,
   "metadata": {},
   "outputs": [
    {
     "name": "stdout",
     "output_type": "stream",
     "text": [
      "[[1. 2. 3.]\n",
      " [3. 4. 5.]]\n"
     ]
    }
   ],
   "source": [
    "b = np.array([[1.0,2.0,3.0],[3.0,4.0,5.0]])\n",
    "print(b)"
   ]
  },
  {
   "cell_type": "code",
   "execution_count": 16,
   "metadata": {},
   "outputs": [
    {
     "name": "stdout",
     "output_type": "stream",
     "text": [
      "[[100 100 100 100 100]\n",
      " [100 100 100 100 100]]\n"
     ]
    }
   ],
   "source": [
    "a = np.array([[1, 2, 3, 4, 5], [6, 7, 8, 9, 10]])\n",
    "\n",
    "print(np.full_like(a, 100))"
   ]
  },
  {
   "cell_type": "code",
   "execution_count": 18,
   "metadata": {},
   "outputs": [
    {
     "name": "stdout",
     "output_type": "stream",
     "text": [
      "[ 1  2 20  4  5]\n"
     ]
    }
   ],
   "source": [
    "a = np.array([1, 2, 3, 4, 5])\n",
    "b = a\n",
    "b[2] = 20\n",
    "\n",
    "print(a)"
   ]
  },
  {
   "cell_type": "code",
   "execution_count": 20,
   "metadata": {},
   "outputs": [
    {
     "name": "stdout",
     "output_type": "stream",
     "text": [
      "15\n"
     ]
    }
   ],
   "source": [
    "a = np.array(([1, 2, 3, 4, 5], [6, 7, 8, 9, 10]))\n",
    "b = np.max(a, axis=1).sum()\n",
    "\n",
    "print(b)"
   ]
  },
  {
   "cell_type": "code",
   "execution_count": 21,
   "metadata": {},
   "outputs": [
    {
     "name": "stdout",
     "output_type": "stream",
     "text": [
      "[[1. 1.]\n",
      " [1. 1.]\n",
      " [1. 1.]\n",
      " [1. 1.]]\n"
     ]
    }
   ],
   "source": [
    "a = np.ones((2, 4))\n",
    "b = a.reshape((4, 2))\n",
    "print(b)"
   ]
  }
 ],
 "metadata": {
  "canvas": {
   "colorPalette": [
    "inherit",
    "inherit",
    "inherit",
    "inherit",
    "inherit",
    "inherit",
    "inherit",
    "inherit",
    "inherit",
    "inherit"
   ],
   "parameters": [],
   "version": "1.0"
  },
  "kernelspec": {
   "display_name": "Python 3 (ipykernel)",
   "language": "python",
   "name": "python3"
  },
  "language_info": {
   "codemirror_mode": {
    "name": "ipython",
    "version": 3
   },
   "file_extension": ".py",
   "mimetype": "text/x-python",
   "name": "python",
   "nbconvert_exporter": "python",
   "pygments_lexer": "ipython3",
   "version": "3.10.10"
  },
  "vscode": {
   "interpreter": {
    "hash": "c8d50d5ba6bae853d9088c93d919762b69d28a14d9c16cd253309b0da30284d4"
   }
  }
 },
 "nbformat": 4,
 "nbformat_minor": 4
}
